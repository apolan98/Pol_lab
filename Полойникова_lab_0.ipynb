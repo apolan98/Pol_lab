{
  "nbformat": 4,
  "nbformat_minor": 0,
  "metadata": {
    "colab": {
      "name": "Полойникова_lab_0.ipynb",
      "provenance": [],
      "collapsed_sections": [],
      "include_colab_link": true
    },
    "kernelspec": {
      "name": "python3",
      "display_name": "Python 3"
    }
  },
  "cells": [
    {
      "cell_type": "markdown",
      "metadata": {
        "id": "view-in-github",
        "colab_type": "text"
      },
      "source": [
        "<a href=\"https://colab.research.google.com/github/apolan98/Pol_lab/blob/main/%D0%9F%D0%BE%D0%BB%D0%BE%D0%B9%D0%BD%D0%B8%D0%BA%D0%BE%D0%B2%D0%B0_lab_0.ipynb\" target=\"_parent\"><img src=\"https://colab.research.google.com/assets/colab-badge.svg\" alt=\"Open In Colab\"/></a>"
      ]
    },
    {
      "cell_type": "markdown",
      "metadata": {
        "id": "K4Sg8x12CjT0"
      },
      "source": [
        "# **hashlib** — хеширование строк в Python на примерах — MD5, SHA1"
      ]
    },
    {
      "cell_type": "markdown",
      "metadata": {
        "id": "qd9AXWBuCyEL"
      },
      "source": [
        "*   В Python хеш-функция принимает вводную последовательность с переменной длиной в байтах и конвертирует ее в последовательность с фиксированной длиной. Данная функция односторонняя.\n",
        "*   Это значит, что если f является функцией хеширования, f(x) вычисляется довольно быстро и без лишних сложностей, однако на повторное получение х потребуется очень много времени. Значение, что возвращается хеш-функцией, обычно называют хешем, дайджестом сообщения, значением хеша или контрольной суммой. \n",
        "    \n",
        "    **Популярные хеш-функции Python**\n",
        "\n",
        "\n",
        "1.   **MD5:** Алгоритм производит хеш со значением в 128 битов. Широко используется дляпроверки целостности данных. Не подходит для использования в иных областях по причине уязвимости в безопасности MD5.\n",
        "\n",
        "2.   **SHA:** Группа алгоритмов, что были разработаны NSA Соединенных Штатов. Они являются частью Федерального стандарта обработки информации США. Эти алгоритмы широко используются в нескольких криптографических приложениях. Длина сообщения варьируется от 160 до 512 бит.\n"
      ]
    },
    {
      "cell_type": "code",
      "metadata": {
        "id": "uSd4JAzjChb_"
      },
      "source": [
        "import hashlib"
      ],
      "execution_count": null,
      "outputs": []
    },
    {
      "cell_type": "markdown",
      "metadata": {
        "id": "fLsBz_mwERy8"
      },
      "source": [
        "Теперь для списка доступных алгоритмов используются algorithms_available и algorithms_guaranteed."
      ]
    },
    {
      "cell_type": "code",
      "metadata": {
        "id": "7qDs8KkJEXm-",
        "colab": {
          "base_uri": "https://localhost:8080/"
        },
        "outputId": "8013d507-d07f-4e2d-9103-90783a405bd2"
      },
      "source": [
        "print(hashlib.algorithms_available)\n",
        "print(hashlib.algorithms_guaranteed)"
      ],
      "execution_count": 7,
      "outputs": [
        {
          "output_type": "stream",
          "text": [
            "{'sha3_256', 'blake2s256', 'sha512', 'sha3-224', 'ripemd160', 'sha3_224', 'sha3_512', 'sha3-256', 'md5-sha1', 'sha1', 'blake2s', 'shake128', 'sha512-256', 'sha224', 'md5', 'shake_256', 'blake2b512', 'shake_128', 'whirlpool', 'sha256', 'sha384', 'shake256', 'blake2b', 'sm3', 'md4', 'sha3-512', 'sha3_384', 'sha512-224', 'sha3-384'}\n",
            "{'sha3_256', 'shake_128', 'blake2b', 'sha3_512', 'sha512', 'sha1', 'blake2s', 'shake_256', 'sha3_384', 'sha224', 'md5', 'sha256', 'sha384', 'sha3_224'}\n"
          ],
          "name": "stdout"
        }
      ]
    },
    {
      "cell_type": "markdown",
      "metadata": {
        "id": "4_KBFUMVEelz"
      },
      "source": [
        "Метод **algorithms_available** создает список всех алгоритмов, доступных в системе, включая те, что доступны через OpenSSl.\n",
        "\n",
        " В данном случае в списке можно заметить дубликаты названий. algorithms_guaranteed перечисляет только алгоритмы модуля. Всегда присутствуют **md5, sha1, sha224, sha256, sha384, sha512**."
      ]
    },
    {
      "cell_type": "markdown",
      "metadata": {
        "id": "AnoY66OEE5bj"
      },
      "source": [
        "# Примеры кода с хеш-функциями в Python"
      ]
    },
    {
      "cell_type": "markdown",
      "metadata": {
        "id": "BlZzyjfcE8JR"
      },
      "source": [
        "Код ниже принимает строку **\"Hello World\"** и выводит дайджест HEX данной строки. hexdigest возвращает строку HEX, что представляет хеш, и в случае, если вам нужна последовательность байтов, нужно использовать дайджест."
      ]
    },
    {
      "cell_type": "code",
      "metadata": {
        "id": "SKGBxYICEwuF",
        "colab": {
          "base_uri": "https://localhost:8080/"
        },
        "outputId": "1801a792-26ce-42a3-d83c-fb8b8326898e"
      },
      "source": [
        "import hashlib\n",
        " \n",
        "hash_object = hashlib.md5(b'Hello World')\n",
        "print(hash_object.hexdigest())"
      ],
      "execution_count": 6,
      "outputs": [
        {
          "output_type": "stream",
          "text": [
            "b10a8db164e0754105b7a99be72e3fe5\n"
          ],
          "name": "stdout"
        }
      ]
    },
    {
      "cell_type": "markdown",
      "metadata": {
        "id": "2XZOJN6-FjnP"
      },
      "source": [
        "если вам нужно принять какой-то ввод с консоли и хешировать его, не забудьте закодировать строку в последовательности байтов:"
      ]
    },
    {
      "cell_type": "code",
      "metadata": {
        "colab": {
          "base_uri": "https://localhost:8080/"
        },
        "id": "NGxpkLj6XldS",
        "outputId": "97d02b5e-13f1-4966-e1f6-3e751a63d50a"
      },
      "source": [
        "import hashlib\r\n",
        " \r\n",
        "hash_object = hashlib.blake2b(b'Hello World')\r\n",
        "print(hash_object.hexdigest())"
      ],
      "execution_count": 4,
      "outputs": [
        {
          "output_type": "stream",
          "text": [
            "4386a08a265111c9896f56456e2cb61a64239115c4784cf438e36cc851221972da3fb0115f73cd02486254001f878ab1fd126aac69844ef1c1ca152379d0a9bd\n"
          ],
          "name": "stdout"
        }
      ]
    },
    {
      "cell_type": "code",
      "metadata": {
        "colab": {
          "base_uri": "https://localhost:8080/"
        },
        "id": "wcGfSl3CXwNT",
        "outputId": "deb99842-9e2a-46d2-ded9-f5569b720476"
      },
      "source": [
        "import hashlib\r\n",
        " \r\n",
        "hash_object = hashlib.sha3_384(b'Hello World')\r\n",
        "print(hash_object.hexdigest())"
      ],
      "execution_count": 5,
      "outputs": [
        {
          "output_type": "stream",
          "text": [
            "a78ec2851e991638ce505d4a44efa606dd4056d3ab274ec6fdbac00cde16478263ef7213bad5a7db7044f58d637afdeb\n"
          ],
          "name": "stdout"
        }
      ]
    },
    {
      "cell_type": "code",
      "metadata": {
        "colab": {
          "base_uri": "https://localhost:8080/"
        },
        "id": "Pftraa7vXyWz",
        "outputId": "b4914625-e15a-45e2-a360-daf6f4a09f67"
      },
      "source": [
        "import hashlib\r\n",
        " \r\n",
        "hash_object = hashlib.blake2s(b'Hello World')\r\n",
        "print(hash_object.hexdigest())"
      ],
      "execution_count": 3,
      "outputs": [
        {
          "output_type": "stream",
          "text": [
            "7706af019148849e516f95ba630307a2018bb7bf03803eca5ed7ed2c3c013513\n"
          ],
          "name": "stdout"
        }
      ]
    },
    {
      "cell_type": "markdown",
      "metadata": {
        "id": "GTOPrdJPJKxn"
      },
      "source": [
        "1. Хеширования на **MD5** "
      ]
    },
    {
      "cell_type": "code",
      "metadata": {
        "id": "u_fw28UtFk3i",
        "colab": {
          "base_uri": "https://localhost:8080/",
          "height": 50
        },
        "outputId": "950c5e57-e197-4a5b-eba8-26392b441a87"
      },
      "source": [
        "import hashlib\n",
        " \n",
        "mystring = input('Enter String to hash: ')\n",
        " \n",
        "# Предположительно по умолчанию UTF-8\n",
        "hash_object = hashlib.md5(mystring.encode())\n",
        "print(hash_object.hexdigest())"
      ],
      "execution_count": null,
      "outputs": [
        {
          "output_type": "stream",
          "text": [
            "Enter String to hash: пкпке\n",
            "2757995fefb3633940b18102294222fb\n"
          ],
          "name": "stdout"
        }
      ]
    },
    {
      "cell_type": "markdown",
      "metadata": {
        "id": "xiLcc8x8Fnse"
      },
      "source": [
        "2. Хеширования на **SHA1**  "
      ]
    },
    {
      "cell_type": "code",
      "metadata": {
        "id": "QbjadNCFF-h-",
        "colab": {
          "base_uri": "https://localhost:8080/",
          "height": 33
        },
        "outputId": "2fd89be0-5e1e-45f7-8d27-8608a30ecf9a"
      },
      "source": [
        "import hashlib\n",
        " \n",
        "hash_object = hashlib.sha1(b'Hello World')\n",
        "hex_dig = hash_object.hexdigest()\n",
        " \n",
        "print(hex_dig)"
      ],
      "execution_count": null,
      "outputs": [
        {
          "output_type": "stream",
          "text": [
            "0a4d55a8d778e5022fab701977c5d840bbc486d0\n"
          ],
          "name": "stdout"
        }
      ]
    },
    {
      "cell_type": "markdown",
      "metadata": {
        "id": "DP7-NgP8I6fr"
      },
      "source": [
        "3. Хеширование на **SHA224**"
      ]
    },
    {
      "cell_type": "code",
      "metadata": {
        "id": "5fByPQkAJUww",
        "colab": {
          "base_uri": "https://localhost:8080/",
          "height": 33
        },
        "outputId": "466a2434-f464-4aeb-bc12-2b2131d7e966"
      },
      "source": [
        "import hashlib\n",
        " \n",
        "hash_object = hashlib.sha224(b'Hello World')\n",
        "hex_dig = hash_object.hexdigest()\n",
        " \n",
        "print(hex_dig)"
      ],
      "execution_count": null,
      "outputs": [
        {
          "output_type": "stream",
          "text": [
            "c4890faffdb0105d991a461e668e276685401b02eab1ef4372795047\n"
          ],
          "name": "stdout"
        }
      ]
    },
    {
      "cell_type": "markdown",
      "metadata": {
        "id": "d-NGu_slJYXx"
      },
      "source": [
        "4. Хеширование на **SHA256**"
      ]
    },
    {
      "cell_type": "code",
      "metadata": {
        "id": "k4QR5WyiJXRT",
        "colab": {
          "base_uri": "https://localhost:8080/",
          "height": 33
        },
        "outputId": "f90bdacf-e766-4d79-91b3-dbb65566df1e"
      },
      "source": [
        "import hashlib\n",
        " \n",
        "hash_object = hashlib.sha256(b'Hello World')\n",
        "hex_dig = hash_object.hexdigest()\n",
        " \n",
        "print(hex_dig)"
      ],
      "execution_count": null,
      "outputs": [
        {
          "output_type": "stream",
          "text": [
            "a591a6d40bf420404a011733cfb7b190d62c65bf0bcda32b57b277d9ad9f146e\n"
          ],
          "name": "stdout"
        }
      ]
    },
    {
      "cell_type": "markdown",
      "metadata": {
        "id": "AJoDm5wKJlad"
      },
      "source": [
        "5. Хеширование на **SHA384**"
      ]
    },
    {
      "cell_type": "code",
      "metadata": {
        "id": "ETZbgFdyJuo9",
        "colab": {
          "base_uri": "https://localhost:8080/",
          "height": 33
        },
        "outputId": "e001f4ab-ab28-42bf-ce10-940d6a56083e"
      },
      "source": [
        "import hashlib\n",
        " \n",
        "hash_object = hashlib.sha384(b'Hello World')\n",
        "hex_dig = hash_object.hexdigest()\n",
        " \n",
        "print(hex_dig)"
      ],
      "execution_count": null,
      "outputs": [
        {
          "output_type": "stream",
          "text": [
            "99514329186b2f6ae4a1329e7ee6c610a729636335174ac6b740f9028396fcc803d0e93863a7c3d90f86beee782f4f3f\n"
          ],
          "name": "stdout"
        }
      ]
    },
    {
      "cell_type": "markdown",
      "metadata": {
        "id": "21OIsmeDJzl7"
      },
      "source": [
        "6. Хеширование на **SHA512**"
      ]
    },
    {
      "cell_type": "code",
      "metadata": {
        "id": "V1AjTGNyJ2qQ"
      },
      "source": [
        "import hashlib\n",
        " \n",
        "hash_object = hashlib.sha512(b'Hello World')\n",
        "hex_dig = hash_object.hexdigest()\n",
        " \n",
        "print(hex_dig)"
      ],
      "execution_count": null,
      "outputs": []
    },
    {
      "cell_type": "markdown",
      "metadata": {
        "id": "TrIxobQqJ5sh"
      },
      "source": [
        "# Использование алгоритмов OpenSSL"
      ]
    },
    {
      "cell_type": "markdown",
      "metadata": {
        "id": "1chQxkjOJ9T8"
      },
      "source": [
        "Алгоритмы, предоставленные OpenSSL определяем через функцию  **algorithms_available**"
      ]
    },
    {
      "cell_type": "code",
      "metadata": {
        "id": "ypoqL8MKP-PX",
        "colab": {
          "base_uri": "https://localhost:8080/",
          "height": 53
        },
        "outputId": "d5d89faa-79be-4e87-ca98-d4fd5b790f9e"
      },
      "source": [
        "print(hashlib.algorithms_available)"
      ],
      "execution_count": null,
      "outputs": [
        {
          "output_type": "stream",
          "text": [
            "{'sha3-512', 'md5', 'sha3_224', 'blake2s', 'sha3_512', 'sha3_256', 'shake_128', 'ripemd160', 'whirlpool', 'sha3-384', 'sha224', 'shake128', 'sha3-256', 'sha3_384', 'shake_256', 'sha256', 'sha3-224', 'sha384', 'shake256', 'md5-sha1', 'sha512-224', 'md4', 'sha512', 'sha512-256', 'blake2b512', 'blake2b', 'sm3', 'sha1', 'blake2s256'}\n"
          ],
          "name": "stdout"
        }
      ]
    },
    {
      "cell_type": "code",
      "metadata": {
        "id": "zjJpT73gQKaz",
        "colab": {
          "base_uri": "https://localhost:8080/",
          "height": 33
        },
        "outputId": "5240356a-f91b-4629-bb78-a0a02cd4110e"
      },
      "source": [
        "#импортируем\n",
        "import hashlib \n",
        " \n",
        "#задаем тип хеширования и херишуем текст\n",
        "hash_object = hashlib.new('ripemd160')\n",
        "hash_object.update(b'Hello World') \n",
        " \n",
        "#результат - вывод кеша\n",
        "print(hash_object.hexdigest()) "
      ],
      "execution_count": null,
      "outputs": [
        {
          "output_type": "stream",
          "text": [
            "a830d7beb04eb7549ce990fb7dc962e499a27230\n"
          ],
          "name": "stdout"
        }
      ]
    },
    {
      "cell_type": "code",
      "metadata": {
        "id": "JqHjQ2blfAki"
      },
      "source": [
        ""
      ],
      "execution_count": null,
      "outputs": []
    },
    {
      "cell_type": "markdown",
      "metadata": {
        "id": "dZK74AybR3Bk"
      },
      "source": [
        "# Пример хеширования паролей Python"
      ]
    },
    {
      "cell_type": "markdown",
      "metadata": {
        "id": "21CyU3u_R5cR"
      },
      "source": [
        "В следующем примере пароли будут хешироваться для последующего сохранения в базе данных. Здесь мы будем использовать **salt**. **salt** является случайной последовательностью, добавленной к строке пароля перед использованием хеш-функции. **salt** используется для предотвращения перебора по словарю (**dictionary attack**) и атак радужной таблицы (**rainbow tables attacks**)."
      ]
    },
    {
      "cell_type": "code",
      "metadata": {
        "id": "ASZPNYhvR4nm"
      },
      "source": [
        "#импортируем библиотеки\n",
        "import uuid\n",
        "import hashlib\n",
        " \n",
        "def hash_password(password):\n",
        "    # uuid используется для генерации случайного числа\n",
        "    salt = uuid.uuid4().hex\n",
        "    return hashlib.sha256(salt.encode() + password.encode()).hexdigest() + ':' + salt\n",
        "    \n",
        "def check_password(hashed_password, user_password):\n",
        "    password, salt = hashed_password.split(':')\n",
        "    return password == hashlib.sha256(salt.encode() + user_password.encode()).hexdigest()\n",
        " \n",
        "new_pass = input('Введите пароль: ')  #Пользователю предлагается ввести пароль\n",
        "hashed_password = hash_password(new_pass) #Хешируем введенный пользователем пароль\n",
        "print('Строка для хранения в базе данных: ' + hashed_password) #Вывод пароля на экран\n",
        "old_pass = input('Введите пароль еще раз для проверки: ') #Повторный ввод пароля пользователем для проверки\n",
        " \n",
        "if check_password(hashed_password, old_pass): #Проверка корректности введенного пароля\n",
        "    print('Вы ввели правильный пароль')\n",
        "else:\n",
        "    print('Извините, но пароли не совпадают')"
      ],
      "execution_count": null,
      "outputs": []
    }
  ]
}